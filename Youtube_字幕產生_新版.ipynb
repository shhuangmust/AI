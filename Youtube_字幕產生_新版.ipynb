{
  "nbformat": 4,
  "nbformat_minor": 0,
  "metadata": {
    "colab": {
      "provenance": [],
      "gpuType": "T4",
      "authorship_tag": "ABX9TyOIJwVl4wpC/fByW9WaZ3PS",
      "include_colab_link": true
    },
    "kernelspec": {
      "name": "python3",
      "display_name": "Python 3"
    },
    "language_info": {
      "name": "python"
    },
    "accelerator": "GPU"
  },
  "cells": [
    {
      "cell_type": "markdown",
      "metadata": {
        "id": "view-in-github",
        "colab_type": "text"
      },
      "source": [
        "<a href=\"https://colab.research.google.com/github/shhuangmust/AI/blob/master/Youtube_%E5%AD%97%E5%B9%95%E7%94%A2%E7%94%9F_%E6%96%B0%E7%89%88.ipynb\" target=\"_parent\"><img src=\"https://colab.research.google.com/assets/colab-badge.svg\" alt=\"Open In Colab\"/></a>"
      ]
    },
    {
      "cell_type": "code",
      "execution_count": 1,
      "metadata": {
        "id": "TcdvDiVBjG5N"
      },
      "outputs": [],
      "source": [
        "#安裝套件\n",
        "!pip install -U yt-dlp --quiet\n",
        "!pip install -U openai-whisper --quiet\n",
        "!sudo apt-get install ffmpeg -y > /dev/null"
      ]
    },
    {
      "cell_type": "code",
      "source": [
        "# 載入 Whisper 模型（使用 base/medium/large 視需求，可用 base/medium 最快）\n",
        "import whisper\n",
        "model = whisper.load_model(\"medium\")  # 建議使用 'medium' 兼顧準確率與速度\n"
      ],
      "metadata": {
        "id": "qSm63Rz6jdRq"
      },
      "execution_count": 2,
      "outputs": []
    },
    {
      "cell_type": "code",
      "source": [
        "#輸入 YouTube 連結\n",
        "youtube_url = 'https://www.youtube.com/watch?v=jbM3DRpR--w'"
      ],
      "metadata": {
        "id": "SkBve8fvoXBO"
      },
      "execution_count": 3,
      "outputs": []
    },
    {
      "cell_type": "code",
      "source": [
        "# 使用 yt-dlp 下載音訊為 mp4 格式\n",
        "import os\n",
        "\n",
        "audio_filename = 'audio.mp4'\n",
        "subtitle_file = 'subtitles.srt'\n",
        "\n",
        "# 檢查並刪除舊檔\n",
        "for file in [audio_filename, subtitle_file]:\n",
        "    if os.path.exists(file):\n",
        "        os.remove(file)\n",
        "        print(f\"🗑️ 已刪除舊檔：{file}\")\n",
        "\n",
        "# -f ba：最佳音訊，-x：抽出音訊，--audio-format mp4：輸出 mp4 音訊檔, -o：指定輸出檔案\n",
        "cmd = f\"yt-dlp -f bestaudio[ext=mp4] -o {audio_filename} {youtube_url}\"\n",
        "return_code = os.system(cmd)\n",
        "print(return_code)"
      ],
      "metadata": {
        "colab": {
          "base_uri": "https://localhost:8080/"
        },
        "id": "--1jkmXVjNf4",
        "outputId": "8f48ece1-be0f-46bb-eb23-779d8ef1df13"
      },
      "execution_count": 4,
      "outputs": [
        {
          "output_type": "stream",
          "name": "stdout",
          "text": [
            "0\n"
          ]
        }
      ]
    },
    {
      "cell_type": "code",
      "source": [
        "import yt_dlp\n",
        "import os\n",
        "\n",
        "ydl_opts = {}\n",
        "with yt_dlp.YoutubeDL(ydl_opts) as ydl:\n",
        "    info = ydl.extract_info(youtube_url, download=False)\n",
        "    video_title = info.get(\"title\", \"downloaded_video\").replace('/', '_').replace('\\\\', '_')  # 防止非法字元\n",
        "    audio_filename = f\"{video_title}.mp4\".replace(\" \", \"\")\n",
        "    subtitle_filename = f\"{video_title}.srt\".replace(\" \", \"\")\n",
        "# -f ba：最佳音訊，-x：抽出音訊，--audio-format mp4：輸出 mp4 音訊檔, -o：指定輸出檔案\n",
        "cmd = f\"yt-dlp -f bestaudio[ext=mp4] -o {audio_filename} {youtube_url}\"\n",
        "return_code = os.system(cmd)\n",
        "print(audio_filename)\n"
      ],
      "metadata": {
        "colab": {
          "base_uri": "https://localhost:8080/"
        },
        "id": "RJ28NLGEu8BE",
        "outputId": "7fe97e0e-2e79-4d3a-8a93-9c2f323cac6c"
      },
      "execution_count": 5,
      "outputs": [
        {
          "output_type": "stream",
          "name": "stdout",
          "text": [
            "[youtube] Extracting URL: https://www.youtube.com/watch?v=jbM3DRpR--w\n",
            "[youtube] jbM3DRpR--w: Downloading webpage\n",
            "[youtube] jbM3DRpR--w: Downloading tv client config\n",
            "[youtube] jbM3DRpR--w: Downloading tv player API JSON\n",
            "[youtube] jbM3DRpR--w: Downloading ios player API JSON\n",
            "[youtube] jbM3DRpR--w: Downloading m3u8 information\n",
            "「注意北海道外海強震」郭鎧紋：恐達規模9.mp4\n"
          ]
        }
      ]
    },
    {
      "cell_type": "code",
      "source": [
        "result = model.transcribe(audio_filename, language='zh')\n",
        "print(\"字幕轉換完成\")"
      ],
      "metadata": {
        "colab": {
          "base_uri": "https://localhost:8080/"
        },
        "id": "TtYM0NhBmPTk",
        "outputId": "475993bf-83e5-4af2-ce59-2920869539ab"
      },
      "execution_count": 6,
      "outputs": [
        {
          "output_type": "stream",
          "name": "stdout",
          "text": [
            "字幕轉換完成\n"
          ]
        }
      ]
    },
    {
      "cell_type": "code",
      "source": [
        "# 儲存字幕為 SRT 格式\n",
        "from datetime import timedelta\n",
        "\n",
        "def format_timestamp(seconds):\n",
        "    return str(timedelta(seconds=int(seconds))).zfill(8).replace('.', ',')\n",
        "\n",
        "with open(subtitle_filename, \"w\", encoding=\"utf-8\") as srt_file:\n",
        "    for i, segment in enumerate(result[\"segments\"]):\n",
        "        start = format_timestamp(segment[\"start\"])\n",
        "        end = format_timestamp(segment[\"end\"])\n",
        "        text = segment[\"text\"].strip()\n",
        "        srt_file.write(f\"{i + 1}\\n{start} --> {end}\\n{text}\\n\\n\")\n",
        "\n",
        "print(f\"✅ 字幕已建立：{subtitle_filename}\")"
      ],
      "metadata": {
        "colab": {
          "base_uri": "https://localhost:8080/"
        },
        "id": "Y0nE7rmbjiK_",
        "outputId": "29180759-4e2e-4031-9d81-0b1d887acf28"
      },
      "execution_count": 7,
      "outputs": [
        {
          "output_type": "stream",
          "name": "stdout",
          "text": [
            "✅ 字幕已建立：「注意北海道外海強震」郭鎧紋：恐達規模9.srt\n"
          ]
        }
      ]
    }
  ]
}