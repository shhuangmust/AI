{
  "nbformat": 4,
  "nbformat_minor": 0,
  "metadata": {
    "colab": {
      "provenance": [],
      "authorship_tag": "ABX9TyMqCjznuDOAT37/mxVd2Ajy",
      "include_colab_link": true
    },
    "kernelspec": {
      "name": "python3",
      "display_name": "Python 3"
    },
    "language_info": {
      "name": "python"
    }
  },
  "cells": [
    {
      "cell_type": "markdown",
      "metadata": {
        "id": "view-in-github",
        "colab_type": "text"
      },
      "source": [
        "<a href=\"https://colab.research.google.com/github/shhuangmust/AI/blob/master/Chat_with_local_LLM.ipynb\" target=\"_parent\"><img src=\"https://colab.research.google.com/assets/colab-badge.svg\" alt=\"Open In Colab\"/></a>"
      ]
    },
    {
      "cell_type": "code",
      "execution_count": 2,
      "metadata": {
        "colab": {
          "base_uri": "https://localhost:8080/"
        },
        "id": "F2_xa_U_N9oy",
        "outputId": "8d37da9b-2be3-4bd7-b48d-f9158158a379"
      },
      "outputs": [
        {
          "output_type": "stream",
          "name": "stdout",
          "text": [
            "ChatGPT 是一個由美國人工智能研究組織 Anthropic 設計的大型語言模型。它基於 transformers 模型架構，並在大量 internet 文本數據上進行訓練。以下是 ChatGPT 的一些主要特點：\n",
            "\n",
            "1. **對話能力**：ChatGPT 很擅長進行自然對話，可以回答問題、提供建議、分享知識等。\n",
            "\n",
            "2. **多任務處理**：它可以執行各種不同的任務，包括編寫文章、創建程式碼、生成故事等。\n",
            "\n",
            "3. **持續學習與改進**： Anthropic 對 ChatGPT 進行了多次更新和優化，使其表現更加流暢和準確。\n",
            "\n",
            "4. **開放性**：ChatGPT 可以自由使用於各種場景中，但 Anthropic 要求在使用過程中遵守一定的規範和限制。\n",
            "\n",
            "5. **限制與局限**：如同其他大型語言模型一樣，ChatGPT 也可能產生錯誤信息或偏見內容，因此使用時需要進行適當的評估和校正。\n",
            "\n",
            "總體來說，ChatGPT 是一個功能強大、應用廣泛的人工智能工具，但用戶在使用過程中需要注意其可能存在的局限性。\n"
          ]
        }
      ],
      "source": [
        "from openai  import OpenAI\n",
        "#請在ip欄位填入你LM Studio的ip\n",
        "client = OpenAI(api_key=\"test\", base_url=\"http://ip:1234/v1\" )\n",
        "\n",
        "chat_completion = client.chat.completions.create(\n",
        "    messages=[\n",
        "        {\"role\": \"system\", \"content\": \"你是一個有用的助理，請用繁體中文回答\"},\n",
        "        {\"role\": \"user\",   \"content\": \"介紹一下ChatGPT\"}\n",
        "    ],\n",
        "    #請在模型欄位填入你使用的模型\n",
        "    model=\"模型\",\n",
        ")\n",
        "print(chat_completion.choices[0].message.content)"
      ]
    },
    {
      "cell_type": "code",
      "source": [],
      "metadata": {
        "id": "QCqUElVKOCSr"
      },
      "execution_count": null,
      "outputs": []
    }
  ]
}