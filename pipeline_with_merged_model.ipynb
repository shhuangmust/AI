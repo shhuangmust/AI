{
  "nbformat": 4,
  "nbformat_minor": 0,
  "metadata": {
    "colab": {
      "provenance": [],
      "gpuType": "T4",
      "authorship_tag": "ABX9TyMysKZNGQE5z2MkI+vCBwRo",
      "include_colab_link": true
    },
    "kernelspec": {
      "name": "python3",
      "display_name": "Python 3"
    },
    "language_info": {
      "name": "python"
    },
    "accelerator": "GPU"
  },
  "cells": [
    {
      "cell_type": "markdown",
      "metadata": {
        "id": "view-in-github",
        "colab_type": "text"
      },
      "source": [
        "<a href=\"https://colab.research.google.com/github/shhuangmust/AI/blob/master/pipeline_with_merged_model.ipynb\" target=\"_parent\"><img src=\"https://colab.research.google.com/assets/colab-badge.svg\" alt=\"Open In Colab\"/></a>"
      ]
    },
    {
      "cell_type": "code",
      "execution_count": null,
      "metadata": {
        "id": "kp64YYdFGrU0"
      },
      "outputs": [],
      "source": [
        "!pip install transformers torch"
      ]
    },
    {
      "cell_type": "code",
      "source": [
        "from transformers import pipeline\n",
        "\n",
        "generator  = pipeline(\"text-generation\", model=\"shhuangmust/merged_model\", device_map=\"auto\")\n",
        "\n",
        "generator(\"將下面翻譯成文言文：今天天氣很好，海邊的風景也很美。\")\n"
      ],
      "metadata": {
        "id": "mUF-5sDBGtNc"
      },
      "execution_count": null,
      "outputs": []
    }
  ]
}